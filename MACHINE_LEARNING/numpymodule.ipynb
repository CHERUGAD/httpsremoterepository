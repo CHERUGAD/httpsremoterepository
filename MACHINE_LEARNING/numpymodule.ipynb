{
 "cells": [
  {
   "cell_type": "code",
   "execution_count": 2,
   "id": "538649fc",
   "metadata": {},
   "outputs": [],
   "source": [
    "import numpy as np"
   ]
  },
  {
   "cell_type": "code",
   "execution_count": 3,
   "id": "ac41bb90",
   "metadata": {},
   "outputs": [
    {
     "data": {
      "text/plain": [
       "array([1, 2, 3])"
      ]
     },
     "execution_count": 3,
     "metadata": {},
     "output_type": "execute_result"
    }
   ],
   "source": [
    "a=np.array([1,2,3])\n",
    "a"
   ]
  },
  {
   "cell_type": "code",
   "execution_count": 4,
   "id": "726d2955",
   "metadata": {},
   "outputs": [
    {
     "data": {
      "text/plain": [
       "(1, 2)"
      ]
     },
     "execution_count": 4,
     "metadata": {},
     "output_type": "execute_result"
    }
   ],
   "source": [
    "a[0],a[1]"
   ]
  },
  {
   "cell_type": "code",
   "execution_count": 5,
   "id": "6f63149e",
   "metadata": {},
   "outputs": [],
   "source": [
    "import time \n",
    "import sys"
   ]
  },
  {
   "cell_type": "code",
   "execution_count": 6,
   "id": "a8a78429",
   "metadata": {},
   "outputs": [
    {
     "name": "stdout",
     "output_type": "stream",
     "text": [
      "28000\n"
     ]
    }
   ],
   "source": [
    "b=range(1000)\n",
    "print(sys.getsizeof(5)*len(b))\n"
   ]
  },
  {
   "cell_type": "code",
   "execution_count": 7,
   "id": "66bee827",
   "metadata": {},
   "outputs": [
    {
     "name": "stdout",
     "output_type": "stream",
     "text": [
      "800\n"
     ]
    }
   ],
   "source": [
    "c=np.arange(200)\n",
    "sys.getsizeof(c)\n",
    "print(c.size*c.itemsize)"
   ]
  },
  {
   "cell_type": "code",
   "execution_count": 8,
   "id": "ddc85422",
   "metadata": {},
   "outputs": [],
   "source": [
    "size=10000\n"
   ]
  },
  {
   "cell_type": "code",
   "execution_count": 9,
   "id": "6fcbcc77",
   "metadata": {},
   "outputs": [],
   "source": [
    "l1=range(size)\n",
    "l2=range(size)\n",
    "A1=np.arange(size)\n",
    "A2=np.arange(size)\n"
   ]
  },
  {
   "cell_type": "code",
   "execution_count": 10,
   "id": "c9400639",
   "metadata": {},
   "outputs": [
    {
     "name": "stdout",
     "output_type": "stream",
     "text": [
      "Python list took 0.0 ms\n",
      "Python NumPy took 0.0 ms\n"
     ]
    }
   ],
   "source": [
    "import time\n",
    "import numpy as np\n",
    "\n",
    "# Define lists for Python list timing\n",
    "l1 = list(range(10000))\n",
    "l2 = list(range(10000))\n",
    "\n",
    "# Measure time for Python list\n",
    "start = time.time()\n",
    "result = [(x + y) for x, y in zip(l1, l2)]\n",
    "print(\"Python list took\", (time.time() - start) * 1000, \"ms\")\n",
    "\n",
    "# Define NumPy arrays\n",
    "arr1 = np.arange(10000)\n",
    "arr2 = np.arange(10000)\n",
    "\n",
    "# Measure time for NumPy operation\n",
    "start = time.time()\n",
    "arr_sum = arr1 + arr2  # Element-wise addition\n",
    "print(\"Python NumPy took\", (time.time() - start) * 1000, \"ms\")  # Correct timing\n"
   ]
  },
  {
   "cell_type": "code",
   "execution_count": 12,
   "id": "b5ca9d3d",
   "metadata": {},
   "outputs": [
    {
     "data": {
      "text/plain": [
       "array([[1, 2],\n",
       "       [3, 4],\n",
       "       [5, 6]])"
      ]
     },
     "execution_count": 12,
     "metadata": {},
     "output_type": "execute_result"
    }
   ],
   "source": [
    "a=np.array([[1,2],[3,4],[5,6]])\n",
    "a"
   ]
  },
  {
   "cell_type": "code",
   "execution_count": 13,
   "id": "fc65ca6f",
   "metadata": {},
   "outputs": [
    {
     "data": {
      "text/plain": [
       "2"
      ]
     },
     "execution_count": 13,
     "metadata": {},
     "output_type": "execute_result"
    }
   ],
   "source": [
    "a.ndim"
   ]
  },
  {
   "cell_type": "code",
   "execution_count": 14,
   "id": "60a279fb",
   "metadata": {},
   "outputs": [
    {
     "data": {
      "text/plain": [
       "4"
      ]
     },
     "execution_count": 14,
     "metadata": {},
     "output_type": "execute_result"
    }
   ],
   "source": [
    "a.itemsize"
   ]
  },
  {
   "cell_type": "code",
   "execution_count": 15,
   "id": "95a7eed1",
   "metadata": {},
   "outputs": [
    {
     "data": {
      "text/plain": [
       "(3, 2)"
      ]
     },
     "execution_count": 15,
     "metadata": {},
     "output_type": "execute_result"
    }
   ],
   "source": [
    "a.shape"
   ]
  },
  {
   "cell_type": "code",
   "execution_count": 17,
   "id": "8b7623e7",
   "metadata": {},
   "outputs": [
    {
     "data": {
      "text/plain": [
       "array([[1., 2.],\n",
       "       [3., 4.],\n",
       "       [5., 6.]])"
      ]
     },
     "execution_count": 17,
     "metadata": {},
     "output_type": "execute_result"
    }
   ],
   "source": [
    "a=np.array([[1,2],[3,4],[5,6]],dtype=np.float64)\n",
    "a"
   ]
  },
  {
   "cell_type": "code",
   "execution_count": 18,
   "id": "51373fc1",
   "metadata": {},
   "outputs": [
    {
     "data": {
      "text/plain": [
       "8"
      ]
     },
     "execution_count": 18,
     "metadata": {},
     "output_type": "execute_result"
    }
   ],
   "source": [
    "a.itemsize"
   ]
  },
  {
   "cell_type": "code",
   "execution_count": 19,
   "id": "85b5bfdd",
   "metadata": {},
   "outputs": [
    {
     "data": {
      "text/plain": [
       "(3, 2)"
      ]
     },
     "execution_count": 19,
     "metadata": {},
     "output_type": "execute_result"
    }
   ],
   "source": [
    "a.shape"
   ]
  },
  {
   "cell_type": "code",
   "execution_count": 22,
   "id": "5de9658c",
   "metadata": {},
   "outputs": [
    {
     "data": {
      "text/plain": [
       "array([[1.+0.j, 2.+0.j],\n",
       "       [3.+0.j, 4.+0.j],\n",
       "       [5.+0.j, 6.+0.j]])"
      ]
     },
     "execution_count": 22,
     "metadata": {},
     "output_type": "execute_result"
    }
   ],
   "source": [
    "a=np.array([[1,2],[3,4],[5,6]],dtype=np.complex128)\n",
    "a"
   ]
  },
  {
   "cell_type": "code",
   "execution_count": 24,
   "id": "7d7a9620",
   "metadata": {},
   "outputs": [
    {
     "data": {
      "text/plain": [
       "array([[0., 0., 0.],\n",
       "       [0., 0., 0.],\n",
       "       [0., 0., 0.]])"
      ]
     },
     "execution_count": 24,
     "metadata": {},
     "output_type": "execute_result"
    }
   ],
   "source": [
    "np.zeros((3,3))"
   ]
  },
  {
   "cell_type": "code",
   "execution_count": 26,
   "id": "60e577fb",
   "metadata": {},
   "outputs": [
    {
     "data": {
      "text/plain": [
       "array([[1., 1., 1.],\n",
       "       [1., 1., 1.],\n",
       "       [1., 1., 1.]])"
      ]
     },
     "execution_count": 26,
     "metadata": {},
     "output_type": "execute_result"
    }
   ],
   "source": [
    "np.ones((3,3))"
   ]
  },
  {
   "cell_type": "code",
   "execution_count": 29,
   "id": "aac2de59",
   "metadata": {},
   "outputs": [
    {
     "data": {
      "text/plain": [
       "range(0, 5)"
      ]
     },
     "execution_count": 29,
     "metadata": {},
     "output_type": "execute_result"
    }
   ],
   "source": [
    "l=range(5)\n",
    "l"
   ]
  },
  {
   "cell_type": "code",
   "execution_count": 30,
   "id": "3cc4d193",
   "metadata": {},
   "outputs": [
    {
     "data": {
      "text/plain": [
       "array([0, 1, 2, 3, 4])"
      ]
     },
     "execution_count": 30,
     "metadata": {},
     "output_type": "execute_result"
    }
   ],
   "source": [
    "np.arange(5)"
   ]
  },
  {
   "cell_type": "code",
   "execution_count": 31,
   "id": "bcdfdc92",
   "metadata": {},
   "outputs": [
    {
     "name": "stdout",
     "output_type": "stream",
     "text": [
      "Concatinating\n",
      "['helloravi' 'hiikiran']\n"
     ]
    }
   ],
   "source": [
    "print(\"Concatinating\")\n",
    "print(np.char.add(['hello','hii'],['ravi','kiran']))"
   ]
  },
  {
   "cell_type": "code",
   "execution_count": 32,
   "id": "6ae03a8b",
   "metadata": {},
   "outputs": [
    {
     "name": "stdout",
     "output_type": "stream",
     "text": [
      "multiplying\n",
      "hellohellohellohellohello\n"
     ]
    }
   ],
   "source": [
    "print(\"multiplying\")\n",
    "print(np.char.multiply('hello',5))"
   ]
  },
  {
   "cell_type": "code",
   "execution_count": 35,
   "id": "9d9644f0",
   "metadata": {},
   "outputs": [
    {
     "name": "stdout",
     "output_type": "stream",
     "text": [
      ".......hello........\n"
     ]
    }
   ],
   "source": [
    "print(np.char.center('hello',20,fillchar='.'))"
   ]
  },
  {
   "cell_type": "code",
   "execution_count": 36,
   "id": "6d2c5b6f",
   "metadata": {},
   "outputs": [
    {
     "name": "stdout",
     "output_type": "stream",
     "text": [
      "Ravikiran\n"
     ]
    }
   ],
   "source": [
    "print(np.char.capitalize('ravikiran'))"
   ]
  },
  {
   "cell_type": "code",
   "execution_count": 38,
   "id": "1f121360",
   "metadata": {},
   "outputs": [
    {
     "name": "stdout",
     "output_type": "stream",
     "text": [
      "Welcome To Upskill\n"
     ]
    }
   ],
   "source": [
    "print(np.char.title('welcome to upskill'))"
   ]
  },
  {
   "cell_type": "code",
   "execution_count": 39,
   "id": "5410fa47",
   "metadata": {},
   "outputs": [
    {
     "name": "stdout",
     "output_type": "stream",
     "text": [
      "ravikiran\n"
     ]
    }
   ],
   "source": [
    "print(np.char.lower(\"RAVIKIRAN\"))"
   ]
  },
  {
   "cell_type": "code",
   "execution_count": 40,
   "id": "faf5c76a",
   "metadata": {},
   "outputs": [
    {
     "name": "stdout",
     "output_type": "stream",
     "text": [
      "SSSS\n"
     ]
    }
   ],
   "source": [
    "print(np.char.upper(\"ssss\"))\n"
   ]
  },
  {
   "cell_type": "code",
   "execution_count": 41,
   "id": "ef6adca2",
   "metadata": {},
   "outputs": [
    {
     "name": "stdout",
     "output_type": "stream",
     "text": [
      "['Hii', \"I'm\", 'ravikiran']\n"
     ]
    }
   ],
   "source": [
    "print(np.char.split(\"Hii I'm ravikiran\"))"
   ]
  },
  {
   "cell_type": "code",
   "execution_count": 43,
   "id": "eba57163",
   "metadata": {},
   "outputs": [
    {
     "name": "stdout",
     "output_type": "stream",
     "text": [
      "['Hii ', \"I'm ravikiran\"]\n"
     ]
    }
   ],
   "source": [
    "print(np.char.splitlines(\"Hii \\nI'm ravikiran\"))"
   ]
  },
  {
   "cell_type": "code",
   "execution_count": null,
   "id": "d8a12459",
   "metadata": {},
   "outputs": [
    {
     "name": "stdout",
     "output_type": "stream",
     "text": [
      "['Hii  Im aravikiran']\n"
     ]
    }
   ],
   "source": [
    "np.char.join([';'])"
   ]
  },
  {
   "cell_type": "code",
   "execution_count": null,
   "id": "641cbd0e",
   "metadata": {},
   "outputs": [],
   "source": []
  }
 ],
 "metadata": {
  "kernelspec": {
   "display_name": "Python 3",
   "language": "python",
   "name": "python3"
  },
  "language_info": {
   "codemirror_mode": {
    "name": "ipython",
    "version": 3
   },
   "file_extension": ".py",
   "mimetype": "text/x-python",
   "name": "python",
   "nbconvert_exporter": "python",
   "pygments_lexer": "ipython3",
   "version": "3.8.0"
  }
 },
 "nbformat": 4,
 "nbformat_minor": 5
}
