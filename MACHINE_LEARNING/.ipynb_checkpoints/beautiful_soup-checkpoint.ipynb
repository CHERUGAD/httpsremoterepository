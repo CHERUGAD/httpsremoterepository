{
 "cells": [
  {
   "cell_type": "code",
   "execution_count": 14,
   "id": "05538164",
   "metadata": {},
   "outputs": [],
   "source": [
    "from bs4 import BeautifulSoup"
   ]
  },
  {
   "cell_type": "code",
   "execution_count": 15,
   "id": "7c0b24cb",
   "metadata": {},
   "outputs": [],
   "source": [
    "#Create a html document\n",
    "html_doc =\"\"\"<html>\n",
    "<body>\n",
    "<h1>My first Heading</h1>\n",
    "<b><!--This is a comment line--></b>\n",
    "<p title =\"About Me \"class =\"test\">My first paragraph.</p>\n",
    "<div class =\"cities\">\n",
    "<h2>London</h2>\n",
    "</div>\n",
    "</body>\n",
    "</html>\"\"\"\n",
    "#parse it using html parser\n",
    "soup = BeautifulSoup(html_doc,'html.parser')"
   ]
  },
  {
   "cell_type": "code",
   "execution_count": 16,
   "id": "38ff796f",
   "metadata": {},
   "outputs": [
    {
     "data": {
      "text/plain": [
       "bs4.BeautifulSoup"
      ]
     },
     "execution_count": 16,
     "metadata": {},
     "output_type": "execute_result"
    }
   ],
   "source": [
    "type(soup)"
   ]
  },
  {
   "cell_type": "code",
   "execution_count": 17,
   "id": "4394524b",
   "metadata": {},
   "outputs": [
    {
     "name": "stdout",
     "output_type": "stream",
     "text": [
      "<html>\n",
      "<body>\n",
      "<h1>My first Heading</h1>\n",
      "<b><!--This is a comment line--></b>\n",
      "<p class=\"test\" title=\"About Me \">My first paragraph.</p>\n",
      "<div class=\"cities\">\n",
      "<h2>London</h2>\n",
      "</div>\n",
      "</body>\n",
      "</html>\n"
     ]
    }
   ],
   "source": [
    "print(soup)"
   ]
  },
  {
   "cell_type": "code",
   "execution_count": 18,
   "id": "920abbd5",
   "metadata": {},
   "outputs": [
    {
     "name": "stdout",
     "output_type": "stream",
     "text": [
      "<class 'bs4.element.Tag'>\n"
     ]
    }
   ],
   "source": [
    "#Create the tag object\n",
    "# Create a tag object by selecting a tag, for example <p>\n",
    "tag = soup.find('p')\n",
    "\n",
    "# Now check the type\n",
    "print(type(tag))  # Output: <class 'bs4.element.Tag'>\n"
   ]
  },
  {
   "cell_type": "code",
   "execution_count": 19,
   "id": "c2478caa",
   "metadata": {},
   "outputs": [
    {
     "name": "stdout",
     "output_type": "stream",
     "text": [
      "<p class=\"test\" title=\"About Me \">My first paragraph.</p>\n"
     ]
    }
   ],
   "source": [
    "print (tag)"
   ]
  },
  {
   "cell_type": "code",
   "execution_count": 20,
   "id": "30e08e9d",
   "metadata": {},
   "outputs": [
    {
     "name": "stdout",
     "output_type": "stream",
     "text": [
      "Found comment: This is a comment line\n"
     ]
    }
   ],
   "source": [
    "from bs4 import BeautifulSoup, Comment\n",
    "\n",
    "# Sample HTML with a comment\n",
    "html_doc = \"\"\"\n",
    "<html>\n",
    "<body>\n",
    "<h1>My first Heading</h1>\n",
    "<b><!--This is a comment line--></b>\n",
    "<p title=\"About Me\" class=\"test\">My first paragraph.</p>\n",
    "</body>\n",
    "</html>\n",
    "\"\"\"\n",
    "\n",
    "# Parse HTML\n",
    "soup = BeautifulSoup(html_doc, 'html.parser')\n",
    "\n",
    "# Find all comments\n",
    "comments = soup.find_all(string=lambda text: isinstance(text, Comment))  #string=lambda text: ...\tFocuses on string content (text nodes) only.\n",
    "\n",
    "# Print all comments\n",
    "for comment in comments:\n",
    "    print(\"Found comment:\", comment)\n",
    "\n"
   ]
  },
  {
   "cell_type": "code",
   "execution_count": 21,
   "id": "578b9b4d",
   "metadata": {},
   "outputs": [
    {
     "data": {
      "text/plain": [
       "{'title': 'About Me ', 'class': ['test']}"
      ]
     },
     "execution_count": 21,
     "metadata": {},
     "output_type": "execute_result"
    }
   ],
   "source": [
    "tag.attrs"
   ]
  },
  {
   "cell_type": "code",
   "execution_count": 22,
   "id": "afefed50",
   "metadata": {},
   "outputs": [
    {
     "data": {
      "text/plain": [
       "'My first paragraph.'"
      ]
     },
     "execution_count": 22,
     "metadata": {},
     "output_type": "execute_result"
    }
   ],
   "source": [
    "tag.string"
   ]
  },
  {
   "cell_type": "code",
   "execution_count": 23,
   "id": "010b9e1a",
   "metadata": {},
   "outputs": [
    {
     "data": {
      "text/plain": [
       "bs4.element.NavigableString"
      ]
     },
     "execution_count": 23,
     "metadata": {},
     "output_type": "execute_result"
    }
   ],
   "source": [
    "type(tag.string)"
   ]
  },
  {
   "cell_type": "markdown",
   "id": "c8303f6f",
   "metadata": {},
   "source": []
  },
  {
   "cell_type": "code",
   "execution_count": 25,
   "id": "56197ec4",
   "metadata": {},
   "outputs": [
    {
     "name": "stdout",
     "output_type": "stream",
     "text": [
      "None\n",
      "None\n"
     ]
    }
   ],
   "source": [
    "from bs4 import BeautifulSoup, Comment\n",
    "\n",
    "# Sample HTML with a comment\n",
    "html_doc = \"\"\"\n",
    "<html>\n",
    "<body>\n",
    "<h1>My first Heading</h1>\n",
    "<b><!--This is a comment line--></b>\n",
    "<p title=\"About Me\" class=\"test\">My first paragraph.</p>\n",
    "</body>\n",
    "</html>\n",
    "\"\"\"\n",
    "\n",
    "# Parse HTML\n",
    "soup = BeautifulSoup(html_doc, 'html.parser')\n",
    "\n",
    "#search using find methods\n",
    "tag_li=soup.find(\"li\")\n",
    "print(tag_li)  # Output: <li>Item 1</li>\n",
    "tagg=soup.find(tag)\n",
    "print(tagg)\n"
   ]
  },
  {
   "cell_type": "code",
   "execution_count": null,
   "id": "5897fe88",
   "metadata": {},
   "outputs": [],
   "source": []
  }
 ],
 "metadata": {
  "kernelspec": {
   "display_name": "Python 3",
   "language": "python",
   "name": "python3"
  },
  "language_info": {
   "codemirror_mode": {
    "name": "ipython",
    "version": 3
   },
   "file_extension": ".py",
   "mimetype": "text/x-python",
   "name": "python",
   "nbconvert_exporter": "python",
   "pygments_lexer": "ipython3",
   "version": "3.8.0"
  }
 },
 "nbformat": 4,
 "nbformat_minor": 5
}
